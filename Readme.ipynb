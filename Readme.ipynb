{
  "metadata": {
    "language_info": {
      "codemirror_mode": {
        "name": "python",
        "version": 3
      },
      "file_extension": ".py",
      "mimetype": "text/x-python",
      "name": "python",
      "nbconvert_exporter": "python",
      "pygments_lexer": "ipython3",
      "version": "3.8"
    },
    "kernelspec": {
      "name": "python",
      "display_name": "Python (Pyodide)",
      "language": "python"
    },
    "colab": {
      "provenance": []
    }
  },
  "nbformat_minor": 0,
  "nbformat": 4,
  "cells": [
    {
      "cell_type": "markdown",
      "source": [
        "# Installation and requirements\n",
        "OTLMOW-Converter has a couple of dependencies besides the standard Python libraries. It depends on another OTLMOW package: otlmow-model. It will be automatically installed when installing this library. Currently, you need at least Python version 3.7 to use this library. To install the OTL MOW project into your Python project, use pip to install it:"
      ],
      "metadata": {
        "id": "xHR3g4IRV983"
      }
    },
    {
      "cell_type": "code",
      "source": [
        "pip install otlmow-converter"
      ],
      "metadata": {
        "trusted": true,
        "id": "IQrVDOhX1wGc",
        "colab": {
          "base_uri": "https://localhost:8080/"
        },
        "outputId": "05a06182-57ce-4bfb-9967-97a8d812c46a"
      },
      "execution_count": 1,
      "outputs": [
        {
          "output_type": "stream",
          "name": "stdout",
          "text": [
            "Collecting otlmow-converter\n",
            "  Downloading otlmow_converter-0.12-py3-none-any.whl (58 kB)\n",
            "\u001b[?25l     \u001b[90m━━━━━━━━━━━━━━━━━━━━━━━━━━━━━━━━━━━━━━━━\u001b[0m \u001b[32m0.0/58.3 kB\u001b[0m \u001b[31m?\u001b[0m eta \u001b[36m-:--:--\u001b[0m\r\u001b[2K     \u001b[90m━━━━━━━━━━━━━━━━━━━━━━━━━━━━━━━━━━━━━━━━\u001b[0m \u001b[32m58.3/58.3 kB\u001b[0m \u001b[31m1.6 MB/s\u001b[0m eta \u001b[36m0:00:00\u001b[0m\n",
            "\u001b[?25hRequirement already satisfied: openpyxl>=3.0 in /usr/local/lib/python3.10/dist-packages (from otlmow-converter) (3.1.2)\n",
            "Collecting otlmow-model>=2.7.6 (from otlmow-converter)\n",
            "  Downloading otlmow_model-2.8.1-py3-none-any.whl (1.7 MB)\n",
            "\u001b[2K     \u001b[90m━━━━━━━━━━━━━━━━━━━━━━━━━━━━━━━━━━━━━━━━\u001b[0m \u001b[32m1.7/1.7 MB\u001b[0m \u001b[31m29.4 MB/s\u001b[0m eta \u001b[36m0:00:00\u001b[0m\n",
            "\u001b[?25hCollecting rdflib>=6.0.0 (from otlmow-converter)\n",
            "  Downloading rdflib-7.0.0-py3-none-any.whl (531 kB)\n",
            "\u001b[2K     \u001b[90m━━━━━━━━━━━━━━━━━━━━━━━━━━━━━━━━━━━━━━━━\u001b[0m \u001b[32m531.9/531.9 kB\u001b[0m \u001b[31m38.6 MB/s\u001b[0m eta \u001b[36m0:00:00\u001b[0m\n",
            "\u001b[?25hCollecting geojson>=3.0.1 (from otlmow-converter)\n",
            "  Downloading geojson-3.0.1-py3-none-any.whl (15 kB)\n",
            "Requirement already satisfied: prettytable>=3.6.0 in /usr/local/lib/python3.10/dist-packages (from otlmow-converter) (3.9.0)\n",
            "Requirement already satisfied: et-xmlfile in /usr/local/lib/python3.10/dist-packages (from openpyxl>=3.0->otlmow-converter) (1.1.0)\n",
            "Requirement already satisfied: wcwidth in /usr/local/lib/python3.10/dist-packages (from prettytable>=3.6.0->otlmow-converter) (0.2.8)\n",
            "Collecting isodate<0.7.0,>=0.6.0 (from rdflib>=6.0.0->otlmow-converter)\n",
            "  Downloading isodate-0.6.1-py2.py3-none-any.whl (41 kB)\n",
            "\u001b[2K     \u001b[90m━━━━━━━━━━━━━━━━━━━━━━━━━━━━━━━━━━━━━━━━\u001b[0m \u001b[32m41.7/41.7 kB\u001b[0m \u001b[31m4.3 MB/s\u001b[0m eta \u001b[36m0:00:00\u001b[0m\n",
            "\u001b[?25hRequirement already satisfied: pyparsing<4,>=2.1.0 in /usr/local/lib/python3.10/dist-packages (from rdflib>=6.0.0->otlmow-converter) (3.1.1)\n",
            "Requirement already satisfied: six in /usr/local/lib/python3.10/dist-packages (from isodate<0.7.0,>=0.6.0->rdflib>=6.0.0->otlmow-converter) (1.16.0)\n",
            "Installing collected packages: otlmow-model, isodate, geojson, rdflib, otlmow-converter\n",
            "Successfully installed geojson-3.0.1 isodate-0.6.1 otlmow-converter-0.12 otlmow-model-2.8.1 rdflib-7.0.0\n"
          ]
        }
      ]
    },
    {
      "cell_type": "markdown",
      "source": [
        "To upgrade an existing installation use:"
      ],
      "metadata": {
        "id": "1Wa8wQHkWdnE"
      }
    },
    {
      "cell_type": "code",
      "source": [
        "pip install otlmow-converter --upgrade"
      ],
      "metadata": {
        "id": "5ImQoo8iWeGk"
      },
      "execution_count": null,
      "outputs": []
    },
    {
      "cell_type": "markdown",
      "source": [
        "# Basic usage and code examples\n",
        "The core functionality of this library is creating objects of otlmow_model by, either using helper functions or reading a DAVIE file. Then the user can manipulate the objects and finally export them to a valid DAVIE file that can be imported in the application.\n",
        "\n",
        "In the following example 100 objects are created and exported to Excel."
      ],
      "metadata": {
        "id": "o6X2QEVZWoFv"
      }
    },
    {
      "cell_type": "code",
      "source": [
        "from otlmow_converter.OtlmowConverter import OtlmowConverter\n",
        "from otlmow_model.Classes.Onderdeel.Camera import Camera\n",
        "from pathlib import Path\n",
        "\n",
        "created_assets = []\n",
        "for nr in range(100):\n",
        "    d = {'toestand': 'in-gebruik', 'isPtz': (nr <= 50),\n",
        "        'assetId': {'identificator': f'camera_{nr}'}}\n",
        "    created_assets.append(Camera.from_dict(d))\n",
        "\n",
        "converter = OtlmowConverter()\n",
        "converter.create_file_from_assets(filepath=Path('new_cameras.xlsx'), list_of_objects=created_assets)"
      ],
      "metadata": {
        "trusted": true,
        "id": "NtUXFvwF1wGe"
      },
      "execution_count": 2,
      "outputs": []
    },
    {
      "cell_type": "markdown",
      "source": [
        "It's also possible to import objects from a file and export it to a different format, for example from Excel to json."
      ],
      "metadata": {
        "id": "gVdqchXVXaR-"
      }
    },
    {
      "cell_type": "code",
      "source": [
        "from otlmow_converter.OtlmowConverter import OtlmowConverter\n",
        "from pathlib import Path\n",
        "\n",
        "converter = OtlmowConverter()\n",
        "created_assets = converter.create_assets_from_file(filepath=Path('new_cameras.xlsx'))\n",
        "converter.create_file_from_assets(filepath=Path('new_cameras.json'), list_of_objects=created_assets)"
      ],
      "metadata": {
        "tags": [],
        "trusted": true,
        "id": "siUj1JmR1wGf"
      },
      "execution_count": 3,
      "outputs": []
    },
    {
      "cell_type": "markdown",
      "source": [
        "You can read a file and print out a summary."
      ],
      "metadata": {
        "id": "By1slE6wV1OJ"
      }
    },
    {
      "cell_type": "code",
      "source": [
        "from otlmow_model.Helpers.OTLObjectHelper import print_overview_assets\n",
        "from pathlib import Path\n",
        "\n",
        "loaded_assets = converter.create_assets_from_file(filepath=Path('new_cameras.json'))\n",
        "print_overview_assets(loaded_assets)"
      ],
      "metadata": {
        "id": "5VkHfxdLV97r",
        "outputId": "2804a998-f34c-4382-e079-4c1bd4b26425",
        "colab": {
          "base_uri": "https://localhost:8080/"
        }
      },
      "execution_count": 4,
      "outputs": [
        {
          "output_type": "stream",
          "name": "stdout",
          "text": [
            "counting 100 assets of type https://wegenenverkeer.data.vlaanderen.be/ns/onderdeel#Camera\n"
          ]
        }
      ]
    }
  ]
}